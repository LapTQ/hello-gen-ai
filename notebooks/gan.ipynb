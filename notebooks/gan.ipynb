{
 "cells": [
  {
   "cell_type": "code",
   "execution_count": 1,
   "metadata": {},
   "outputs": [
    {
     "name": "stdout",
     "output_type": "stream",
     "text": [
      "/media/laptq/data/workspace/hello-gen-ai/notebooks\n",
      "/media/laptq/data/workspace/hello-gen-ai\n"
     ]
    },
    {
     "name": "stderr",
     "output_type": "stream",
     "text": [
      "/media/laptq/data/workspace/hello-gen-ai/.venv/lib/python3.10/site-packages/IPython/core/magics/osm.py:417: UserWarning: This is now an optional IPython functionality, setting dhist requires you to install the `pickleshare` library.\n",
      "  self.shell.db['dhist'] = compress_dhist(dhist)[-100:]\n"
     ]
    }
   ],
   "source": [
    "!pwd\n",
    "%cd /media/laptq/data/workspace/hello-gen-ai"
   ]
  },
  {
   "cell_type": "code",
   "execution_count": 2,
   "metadata": {},
   "outputs": [],
   "source": [
    "import torch\n",
    "import torchvision\n",
    "import torchvision.transforms as transforms\n",
    "from torch.utils.data import DataLoader\n",
    "import matplotlib.pyplot as plt\n",
    "import numpy as np\n",
    "import torch.nn as nn\n",
    "import torch.nn.functional as F\n",
    "import torch.optim as optim"
   ]
  },
  {
   "cell_type": "code",
   "execution_count": 3,
   "metadata": {},
   "outputs": [],
   "source": [
    "BATCHSIZE = 128\n",
    "STEP_SIZE = 200\n",
    "LR = 0.001\n",
    "EPOCHS = 15\n",
    "DEVICE = 'cuda:0'\n",
    "N_HIDDENS = 8\n",
    "N_LABELS = 10"
   ]
  },
  {
   "cell_type": "markdown",
   "metadata": {},
   "source": [
    "Some [GAN hacks](https://github.com/soumith/ganhacks):\n",
    "\n",
    "1. Input should be normalized to [-1, 1]"
   ]
  },
  {
   "cell_type": "code",
   "execution_count": 31,
   "metadata": {},
   "outputs": [
    {
     "name": "stdout",
     "output_type": "stream",
     "text": [
      "torch.Size([128, 1, 28, 28]) tensor(-1.) tensor(1.) tensor(-0.7437) tensor(0.6115)\n"
     ]
    }
   ],
   "source": [
    "device = torch.device(DEVICE)\n",
    "\n",
    "transform = transforms.Compose(\n",
    "    [\n",
    "        transforms.ToTensor(),\n",
    "        transforms.Normalize((0.5,), (0.5,)),   # GAN hack\n",
    "    ]\n",
    ")\n",
    "\n",
    "trainset = torchvision.datasets.MNIST(\n",
    "    root='./data', \n",
    "    train=True,\n",
    "    download=True, \n",
    "    transform=transform\n",
    ")\n",
    "trainloader = DataLoader(\n",
    "    trainset, \n",
    "    batch_size=BATCHSIZE,\n",
    "    shuffle=True,\n",
    "    num_workers=2\n",
    ")\n",
    "\n",
    "testset = torchvision.datasets.MNIST(\n",
    "    root='./data', \n",
    "    train=False,\n",
    "    download=True, \n",
    "    transform=transform\n",
    ")\n",
    "testloader = DataLoader(\n",
    "    testset, \n",
    "    batch_size=BATCHSIZE,\n",
    "    shuffle=False, \n",
    "    num_workers=2\n",
    ")\n",
    "\n",
    "classes = [str(i) for i in range(10)]\n",
    "\n",
    "\n",
    "# print image shape\n",
    "dataiter = iter(trainloader)\n",
    "images, labels = next(dataiter)\n",
    "print(images.shape, torch.min(images), torch.max(images), torch.mean(images), torch.std(images))"
   ]
  },
  {
   "cell_type": "code",
   "execution_count": 5,
   "metadata": {},
   "outputs": [
    {
     "data": {
      "image/png": "[encoded data removed]",
      "text/plain": [
       "<Figure size 640x480 with 1 Axes>"
      ]
     },
     "metadata": {},
     "output_type": "display_data"
    },
    {
     "name": "stdout",
     "output_type": "stream",
     "text": [
      "7     2     1     0     4     1     4     9     5     9    \n"
     ]
    }
   ],
   "source": [
    "def imshow(img):\n",
    "    npimg = img.numpy()\n",
    "    plt.imshow(np.transpose(npimg, (1, 2, 0)))\n",
    "    plt.show()\n",
    "\n",
    "\n",
    "# get some random training images\n",
    "dataiter = iter(testloader)\n",
    "images, labels = next(dataiter)\n",
    "\n",
    "n_show = 10\n",
    "imshow(torchvision.utils.make_grid(images[:n_show]))\n",
    "print(' '.join(f'{classes[labels[j]]:5s}' for j in range(min(n_show, BATCHSIZE))))"
   ]
  },
  {
   "cell_type": "markdown",
   "metadata": {},
   "source": [
    "## GAN"
   ]
  },
  {
   "cell_type": "code",
   "execution_count": 35,
   "metadata": {},
   "outputs": [
    {
     "data": {
      "text/plain": [
       "(Discriminator(\n",
       "   (fc1): Linear(in_features=784, out_features=512, bias=True)\n",
       "   (fc2): Linear(in_features=512, out_features=256, bias=True)\n",
       "   (fc3): Linear(in_features=256, out_features=1, bias=True)\n",
       " ),\n",
       " Generator(\n",
       "   (fc1): Linear(in_features=8, out_features=256, bias=True)\n",
       "   (fc2): Linear(in_features=256, out_features=512, bias=True)\n",
       "   (fc3): Linear(in_features=512, out_features=1024, bias=True)\n",
       "   (fc4): Linear(in_features=1024, out_features=784, bias=True)\n",
       " ))"
      ]
     },
     "execution_count": 35,
     "metadata": {},
     "output_type": "execute_result"
    }
   ],
   "source": [
    "class Discriminator(nn.Module):\n",
    "    \n",
    "    def __init__(self, **kwargs):\n",
    "        super(Discriminator, self).__init__()\n",
    "\n",
    "        self.fc1 = nn.Linear(28*28, 512)\n",
    "        self.fc2 = nn.Linear(512, 256)\n",
    "        self.fc3 = nn.Linear(256, 1)    # signmoid later\n",
    "\n",
    "\n",
    "    \n",
    "    def forward(self, x):\n",
    "        x = torch.flatten(x, start_dim=1)\n",
    "        x = F.leaky_relu(self.fc1(x), 0.2)  # GAN hack\n",
    "        x = F.leaky_relu(self.fc2(x), 0.2)  # GAN hack\n",
    "        x = self.fc3(x)\n",
    "\n",
    "        return x\n",
    "\n",
    "\n",
    "class Generator(nn.Module):\n",
    "\n",
    "    def __init__(self, **kwargs):\n",
    "        super(Generator, self).__init__()\n",
    "\n",
    "        n_hiddens = kwargs['n_hiddens']\n",
    "\n",
    "        self.fc1 = nn.Linear(n_hiddens, 256)\n",
    "        self.fc2 = nn.Linear(256, 512)\n",
    "        self.fc3 = nn.Linear(512, 1024)\n",
    "        self.fc4 = nn.Linear(1024, 28*28)\n",
    "\n",
    "    \n",
    "    def forward(self, x):\n",
    "        x = F.leaky_relu(self.fc1(x), 0.2)  # GAN hack\n",
    "        x = F.dropout(x, 0.3)   # GAN hack\n",
    "        x = F.leaky_relu(self.fc2(x), 0.2)\n",
    "        x = F.dropout(x, 0.3)\n",
    "        x = F.leaky_relu(self.fc3(x), 0.2)\n",
    "        x = F.dropout(x, 0.3)\n",
    "        x = torch.tanh(self.fc4(x))\n",
    "\n",
    "        x = torch.reshape(x, (-1, 1, 28, 28))\n",
    "\n",
    "        return x\n",
    "    \n",
    "\n",
    "net_disc = Discriminator()\n",
    "net_gen = Generator(n_hiddens=N_HIDDENS)\n",
    "\n",
    "net_disc.to(device)\n",
    "net_gen.to(device)\n",
    "\n",
    "criterion = nn.BCEWithLogitsLoss()\n",
    "\n",
    "optimizer_disc = optim.Adam(\n",
    "    net_disc.parameters(),\n",
    "    lr=LR,\n",
    ")\n",
    "optimizer_gen = optim.Adam(\n",
    "    net_gen.parameters(),\n",
    "    lr=LR,\n",
    ")\n",
    "\n",
    "net_disc(torch.randn(1, 1, 28, 28).to(device))\n",
    "net_gen(torch.randn(1, N_HIDDENS).to(device))\n",
    "\n",
    "net_disc, net_gen"
   ]
  },
  {
   "cell_type": "code",
   "execution_count": null,
   "metadata": {},
   "outputs": [],
   "source": []
  },
  {
   "cell_type": "markdown",
   "metadata": {},
   "source": [
    "## References\n",
    "\n",
    "1. https://freedium.cfd/https://medium.com/ai-society/gans-from-scratch-1-a-deep-introduction-with-code-in-pytorch-and-tensorflow-cb03cdcdba0f\n",
    "2. https://github.com/soumith/ganhacks"
   ]
  }
 ],
 "metadata": {
  "kernelspec": {
   "display_name": ".venv",
   "language": "python",
   "name": "python3"
  },
  "language_info": {
   "codemirror_mode": {
    "name": "ipython",
    "version": 3
   },
   "file_extension": ".py",
   "mimetype": "text/x-python",
   "name": "python",
   "nbconvert_exporter": "python",
   "pygments_lexer": "ipython3",
   "version": "3.10.12"
  }
 },
 "nbformat": 4,
 "nbformat_minor": 2
}
